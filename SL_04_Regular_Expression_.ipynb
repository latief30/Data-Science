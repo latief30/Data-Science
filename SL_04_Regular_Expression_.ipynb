{
  "nbformat": 4,
  "nbformat_minor": 0,
  "metadata": {
    "colab": {
      "provenance": [],
      "collapsed_sections": [],
      "include_colab_link": true
    },
    "kernelspec": {
      "name": "python3",
      "display_name": "Python 3"
    },
    "language_info": {
      "name": "python"
    },
    "accelerator": "GPU",
    "gpuClass": "standard"
  },
  "cells": [
    {
      "cell_type": "markdown",
      "metadata": {
        "id": "view-in-github",
        "colab_type": "text"
      },
      "source": [
        "<a href=\"https://colab.research.google.com/github/latief30/Domain-AI/blob/main/SL_04_Regular_Expression_.ipynb\" target=\"_parent\"><img src=\"https://colab.research.google.com/assets/colab-badge.svg\" alt=\"Open In Colab\"/></a>"
      ]
    },
    {
      "cell_type": "markdown",
      "source": [
        "## Self-Activity\n",
        "**TEXT:**\n",
        "> Halo semua, namaku Andy Joe. Kemarin smartphoneku mendapat SMS tagihan Pinjaman Online dari nomor 08004398499. Selain itu emailku juga mendapatkan pesan serupa dari debtcollector@pinjolninuninu.com. Ternyata salah satu temanku menjadikan nomor telepon dan emailku sebagai penanggungjawab pinjaman onlinenya :(. Tak lama sosok pria berbadan bongsor datang ke rumahku dengan menggunakan mogenya. Ia menanyakan keberadaan temanku yang meminjam uang di perusahaan Pinjol tersebut. Aku yang tak tahu keberadaannya pun menjawab apa adanya. Tak lama kemudian pria tersebut pergi dan segera kuambil gambar mogenya dengan  plat PO 3030 AY. Setelah itu aku menghubungi temanku dan meminta penjelasan kepadanya.\n",
        ">\n",
        "---\n",
        "### Buatlah format pesan kepada teman Andy Joe untuk meminta penjelasan terkait dengan situasi yang sedang terjadi. (ganti teks yang cetak miring dan tebal menjadi nomor debtcollector, email debtcollector dan plat nomor)\n",
        ">\n",
        "\n",
        "**Format Pesan:**\n",
        "> \"*Halo xxxxx, Aku tadi habis didatangi debtcollector. Dia mengirimiku pesan lewat nomornya yaitu **nomor_debtcollector** dan email **email_debtcollector**. Dia bilang kamu jadiin nomorku dan emailku sebagai penanggungjawab. Bisa tolong jelasin? Terus aku tadi juga sempet foto motor yg dipake mas debtcollector. Plat nomornya **plat_nomor_debtcollector**.*\""
      ],
      "metadata": {
        "id": "xvvlUt1l6vu6"
      }
    },
    {
      "cell_type": "markdown",
      "source": [
        "Abdullah Latif | JumaTec Class"
      ],
      "metadata": {
        "id": "EsLbQZncO1HN"
      }
    },
    {
      "cell_type": "code",
      "source": [
        "import re\n",
        "\n",
        "text = \"Halo Temanku, Aku tadi habis didatangi debtcollector. Dia mengirimiku pesan lewat nomornya\"\n",
        "print(text)\n",
        "\n",
        "phone_pattern = re.compile(r'(\\d{3}[-\\.\\s]??\\d{3}[-\\.\\s]??\\d{4,6}|\\(\\d{3}\\)\\s*\\d{3}[-\\.\\s]??\\d{4,6}|\\d{3,4}[-\\.\\s]??\\d{4,6})')\n",
        "txt = 'nomor telephone debtcollector 08004398499'\n",
        "phone_numbers = re.findall(phone_pattern,txt)\n",
        "print('Nomor telephone debtcollector: ', str(phone_numbers))\n",
        "\n",
        "email_pattern = re.compile(r'[\\w._%+-]+@[\\w\\.-]+\\.[a-zA-Z]{2,4}')\n",
        "txt = 'email debtcollector debtcollector@pinjolninuninu.com'\n",
        "emails = re.findall(email_pattern, txt)\n",
        "print( 'Email debtcollector: ', emails)\n",
        "\n",
        "text = \"Dia bilang kamu jadiin nomorku dan emailku sebagai penanggungjawab. Bisa tolong jelasin? Terus aku tadi juga sempet foto motor yg dipake mas debtcollector. Plat nomornya\"\n",
        "print(text)\n",
        "\n",
        "plat_pattern = re.compile(r'[A-Z]{1,2}\\s\\d{1,4}\\s[A-Z]{1,3}')\n",
        "text = \"Plat nomor debtcollector nya yaitu PO 3030 AY\"\n",
        "kumpulan_plat_kendaraan = re.findall(plat_pattern, text)\n",
        "print(kumpulan_plat_kendaraan)"
      ],
      "metadata": {
        "id": "otv3T1NU6UJM",
        "colab": {
          "base_uri": "https://localhost:8080/"
        },
        "outputId": "546267af-01e3-4ad0-fd52-3ef56724fb8e"
      },
      "execution_count": null,
      "outputs": [
        {
          "output_type": "stream",
          "name": "stdout",
          "text": [
            "Halo Temanku, Aku tadi habis didatangi debtcollector. Dia mengirimiku pesan lewat nomornya\n",
            "Nomor telephone debtcollector:  ['08004398499']\n",
            "Email debtcollector:  ['debtcollector@pinjolninuninu.com']\n",
            "Dia bilang kamu jadiin nomorku dan emailku sebagai penanggungjawab. Bisa tolong jelasin? Terus aku tadi juga sempet foto motor yg dipake mas debtcollector. Plat nomornya\n",
            "['PO 3030 AY']\n"
          ]
        }
      ]
    },
    {
      "cell_type": "markdown",
      "source": [
        "**WEB SCRAPING**"
      ],
      "metadata": {
        "id": "No2yF9zxRrU6"
      }
    },
    {
      "cell_type": "code",
      "source": [
        "import requests\n",
        "from bs4 import BeautifulSoup"
      ],
      "metadata": {
        "id": "8TEcibsFRw0n"
      },
      "execution_count": null,
      "outputs": []
    },
    {
      "cell_type": "code",
      "source": [
        "result = requests.get(\"https://review1st.com/harga-spesifikasi/harga-hp-terbaru/\")"
      ],
      "metadata": {
        "id": "KKZAbdRnR1_I"
      },
      "execution_count": null,
      "outputs": []
    },
    {
      "cell_type": "code",
      "source": [
        "result"
      ],
      "metadata": {
        "colab": {
          "base_uri": "https://localhost:8080/"
        },
        "id": "pv0BL0J2R2tZ",
        "outputId": "c2f73896-a120-4469-aaa6-a774cb4ee625"
      },
      "execution_count": null,
      "outputs": [
        {
          "output_type": "execute_result",
          "data": {
            "text/plain": [
              "<Response [200]>"
            ]
          },
          "metadata": {},
          "execution_count": 17
        }
      ]
    },
    {
      "cell_type": "code",
      "source": [
        "# Mengubah Encoding menjadi utf-8 | Jika tidak dikonversi ke utf-8 untuk karakter khusus \n",
        "# seperti \",'/- dll akan menjadi karakter yang sulit dipahami\n",
        "result.encoding = result.apparent_encoding\n",
        "result.encoding"
      ],
      "metadata": {
        "colab": {
          "base_uri": "https://localhost:8080/",
          "height": 35
        },
        "id": "1ciuUs_iR8Y-",
        "outputId": "f1cf319b-0fa2-4aeb-c31d-29ea1e660287"
      },
      "execution_count": null,
      "outputs": [
        {
          "output_type": "execute_result",
          "data": {
            "text/plain": [
              "'utf-8'"
            ],
            "application/vnd.google.colaboratory.intrinsic+json": {
              "type": "string"
            }
          },
          "metadata": {},
          "execution_count": 18
        }
      ]
    },
    {
      "cell_type": "code",
      "source": [
        "wp = BeautifulSoup(result.text, \"html.parser\")"
      ],
      "metadata": {
        "id": "IfcAZLXiSD0k"
      },
      "execution_count": null,
      "outputs": []
    },
    {
      "cell_type": "code",
      "source": [
        "# Mengambil bagian html dengan tag p paling awal (paragraph)\n",
        "wp.find(\"p\")"
      ],
      "metadata": {
        "colab": {
          "base_uri": "https://localhost:8080/"
        },
        "id": "L2wrX0zWSHyG",
        "outputId": "5dccd60b-e233-415b-e400-fd892f4b9ed7"
      },
      "execution_count": null,
      "outputs": [
        {
          "output_type": "execute_result",
          "data": {
            "text/plain": [
              "<p><strong>review1st.com</strong> – Pengguna smartphone di Indonesia terus membengkak. Kian hari kian banyak yang mencari daftar harga HP terbaru sebelum membeli. Pilihan yang melimpah mendorong orang melakukan survei terlebih dulu.</p>"
            ]
          },
          "metadata": {},
          "execution_count": 20
        }
      ]
    },
    {
      "cell_type": "code",
      "source": [
        "# Mengambil bagian html dengan tag p paling awal, tapi hanya value-nya saja.\n",
        "wp.find(\"p\").getText()"
      ],
      "metadata": {
        "colab": {
          "base_uri": "https://localhost:8080/",
          "height": 52
        },
        "id": "1QxMgWpKSI-p",
        "outputId": "e5dc6790-2faf-4ab6-b767-4dec64a9c378"
      },
      "execution_count": null,
      "outputs": [
        {
          "output_type": "execute_result",
          "data": {
            "text/plain": [
              "'review1st.com – Pengguna smartphone di Indonesia terus membengkak. Kian hari kian banyak yang mencari daftar harga HP terbaru sebelum membeli. Pilihan yang melimpah mendorong orang melakukan survei terlebih dulu.'"
            ],
            "application/vnd.google.colaboratory.intrinsic+json": {
              "type": "string"
            }
          },
          "metadata": {},
          "execution_count": 21
        }
      ]
    },
    {
      "cell_type": "code",
      "source": [
        "wp.find('p').getText()"
      ],
      "metadata": {
        "colab": {
          "base_uri": "https://localhost:8080/",
          "height": 52
        },
        "id": "1rdPgiR_SO0T",
        "outputId": "f4541296-d7cd-4748-cc8f-b5e204c2d770"
      },
      "execution_count": null,
      "outputs": [
        {
          "output_type": "execute_result",
          "data": {
            "text/plain": [
              "'review1st.com – Pengguna smartphone di Indonesia terus membengkak. Kian hari kian banyak yang mencari daftar harga HP terbaru sebelum membeli. Pilihan yang melimpah mendorong orang melakukan survei terlebih dulu.'"
            ],
            "application/vnd.google.colaboratory.intrinsic+json": {
              "type": "string"
            }
          },
          "metadata": {},
          "execution_count": 22
        }
      ]
    },
    {
      "cell_type": "code",
      "source": [
        "# Mengambil bagian html dengan tag p (secara keseluruhan)\n",
        "wp.find_all(\"p\")"
      ],
      "metadata": {
        "colab": {
          "base_uri": "https://localhost:8080/"
        },
        "id": "uhRoyhapScgj",
        "outputId": "7c46e9ed-cc84-45b9-dbed-25fb221173af"
      },
      "execution_count": null,
      "outputs": [
        {
          "output_type": "execute_result",
          "data": {
            "text/plain": [
              "[<p><strong>review1st.com</strong> – Pengguna smartphone di Indonesia terus membengkak. Kian hari kian banyak yang mencari daftar harga HP terbaru sebelum membeli. Pilihan yang melimpah mendorong orang melakukan survei terlebih dulu.</p>,\n",
              " <p>Terkait hal ini, kami berinisiatif menyuguhkan daftar HP keluaran baru dan harga untuk mempermudah pembaca dalam mencari produk yang sesuai kebutuhan. Setidaknya, kami lampirkan jajaran produk paling anyar dan masih segar di pasaran dalam berbagai merek.</p>,\n",
              " <p>Berikut adalah daftar <a href=\"https://review1st.com/tipstrik/hal-penting-sebelum-beli-hp-baru/\">HP baru</a> 2022 dan harga yang dirilis hingga September 2022. Ada beberapa kategori merek yang kami suguhkan dalam list ini. Selamat mencari!</p>,\n",
              " <p>List harga HP keluaran baru Samsung cukup dicari, smartphone ini selalu banyak jadi buruan infonya meskipun belum tentu dibeli. Untuk itu kami persembahkan beberapa seri terbaru mereka untuk Anda. </p>,\n",
              " <p>Klik link judul di atas untuk mendapatkan spek dan harga lengkap untuk smartphone Samsung lainnya.</p>,\n",
              " <p>OPPO adalah merek yang terus naik daun tak heran jika spesifikasi dan harga HP OPPO ini mulai banyak dicari oleh banyak kalangan di Tanah Air. </p>,\n",
              " <p>Klik link judul di atas untuk mendapatkan spek dan harga lengkap untuk smartphone OPPO lainnya.</p>,\n",
              " <p>Meskipun sebagai vendor yang relatif paling baru tapi Realme terus mendesak pasar dengan seri-seri baru dengan banderol murah. Tak heran harga HP Realme banyak dicari.</p>,\n",
              " <p>Klik link judul di atas untuk mendapatkan spek dan harga lengkap untuk smartphone Realme lainnya.</p>,\n",
              " <p>POCO tentu saja sudah bukan merek yang dianggap enteng lagi. Harga HP POCO yang murah meriah tapi punya spek mewah adalah ancaman buat para pesaingnya. </p>,\n",
              " <p>Klik link judul di atas untuk mendapatkan spek dan harga lengkap untuk smartphone POCO lainnya.</p>,\n",
              " <p><a class=\"btn btn-shopee\" href=\"https://invol.co/clp3y5\" rel=\"noopener\" style=\"background: #ee4d2d;color:#fff;padding:10px;margin:5px;display: inline-block;\" target=\"_blank\">Cek Harga di Shopee</a></p>,\n",
              " <p><a class=\"btn btn-shopee\" href=\"https://invol.co/clp3y8\" rel=\"noopener\" style=\"background: #ee4d2d;color:#fff;padding:10px;margin:5px;display: inline-block;\" target=\"_blank\">Cek Harga di Shopee</a></p>,\n",
              " <p><a class=\"btn btn-shopee\" href=\"https://invol.co/clp3yb\" rel=\"noopener\" style=\"background: #ee4d2d;color:#fff;padding:10px;margin:5px;display: inline-block;\" target=\"_blank\">Cek Harga di Shopee</a></p>,\n",
              " <p>Xiaomi  tentu saja sudah bukan merek yang dianggap enteng lagi. Harga HP Xiaomi yang murah meriah tapi punya spek mewah adalah ancaman buat para pesaingnya.</p>,\n",
              " <p>Klik link judul di atas untuk mendapatkan spek dan harga lengkap untuk smartphone Xiaomi lainnya.</p>,\n",
              " <p>HP ini adalah sub brand dari Xiaomi yang bertugas menjaga mereka dari pesaing di level bawah. Tapi dalam perjalanannya mulai punya tempat tersendiri di pasar. Tak heran banyak yang ingin tahu spesifikasi dan harga HP Redmi.</p>,\n",
              " <p>Klik link judul di atas untuk mendapatkan spek dan harga lengkap untuk smartphone Redmi lainnya.</p>,\n",
              " <p>Nah, itulah daftar harga HP paling baru 2022 per September. HP yang ada dalam artikel ini umumnya merupakan seri keluaran anyar yang dirilis dalam rentang setahun terakhir.  Kalian juga bisa mengecek rangkaian HP lain dalam daftar berikut ini:</p>,\n",
              " <p>Rangkaian di atas adalah daftar harga HP keluaran terbaru beserta spesifikasinya. Jika ingin lebih lengkap lagi bisa klik katalog khusus kami: <a href=\"http://review1st.id\"><strong>Harga dan Spesifikasi HP.</strong></a></p>,\n",
              " <p class=\"comment-form-cookies-consent\"><input id=\"wp-comment-cookies-consent\" name=\"wp-comment-cookies-consent\" type=\"checkbox\" value=\"yes\"/><label for=\"wp-comment-cookies-consent\">Save my name, email, and website in this browser for the next time I comment.</label></p>,\n",
              " <p class=\"form-submit\"><input class=\"submit\" id=\"submit\" name=\"submit\" type=\"submit\" value=\"Post Comment\"/> <input id=\"comment_post_ID\" name=\"comment_post_ID\" type=\"hidden\" value=\"34378\"/>\n",
              " <input id=\"comment_parent\" name=\"comment_parent\" type=\"hidden\" value=\"0\"/>\n",
              " </p>,\n",
              " <p style=\"display: none;\"><input id=\"akismet_comment_nonce\" name=\"akismet_comment_nonce\" type=\"hidden\" value=\"56b4ca471e\"/></p>,\n",
              " <p style=\"display: none !important;\"><label>Δ<textarea cols=\"45\" maxlength=\"100\" name=\"ak_hp_textarea\" rows=\"8\"></textarea></label><input id=\"ak_js_1\" name=\"ak_js\" type=\"hidden\" value=\"82\"/><script>document.getElementById( \"ak_js_1\" ).setAttribute( \"value\", ( new Date() ).getTime() );</script></p>]"
            ]
          },
          "metadata": {},
          "execution_count": 23
        }
      ]
    },
    {
      "cell_type": "code",
      "source": [
        "full_text = []\n",
        "for paragraf in wp.find_all('p'):\n",
        "  full_text.append(paragraf.getText())\n",
        "\n",
        "full_text"
      ],
      "metadata": {
        "colab": {
          "base_uri": "https://localhost:8080/"
        },
        "id": "r9G2g5arSh0K",
        "outputId": "35c67c43-803f-43b1-978a-f0b8f3c37436"
      },
      "execution_count": null,
      "outputs": [
        {
          "output_type": "execute_result",
          "data": {
            "text/plain": [
              "['review1st.com – Pengguna smartphone di Indonesia terus membengkak. Kian hari kian banyak yang mencari daftar harga HP terbaru sebelum membeli. Pilihan yang melimpah mendorong orang melakukan survei terlebih dulu.',\n",
              " 'Terkait hal ini, kami berinisiatif menyuguhkan daftar HP keluaran baru dan harga untuk mempermudah pembaca dalam mencari produk yang sesuai kebutuhan. Setidaknya, kami lampirkan jajaran produk paling anyar dan masih segar di pasaran dalam berbagai merek.',\n",
              " 'Berikut adalah daftar HP baru 2022 dan harga yang dirilis hingga September 2022. Ada beberapa kategori merek yang kami suguhkan dalam list ini. Selamat mencari!',\n",
              " 'List harga HP keluaran baru Samsung cukup dicari, smartphone ini selalu banyak jadi buruan infonya meskipun belum tentu dibeli. Untuk itu kami persembahkan beberapa seri terbaru mereka untuk Anda. ',\n",
              " 'Klik link judul di atas untuk mendapatkan spek dan harga lengkap untuk smartphone Samsung lainnya.',\n",
              " 'OPPO adalah merek yang terus naik daun tak heran jika spesifikasi dan harga HP OPPO ini mulai banyak dicari oleh banyak kalangan di Tanah Air. ',\n",
              " 'Klik link judul di atas untuk mendapatkan spek dan harga lengkap untuk smartphone OPPO lainnya.',\n",
              " 'Meskipun sebagai vendor yang relatif paling baru tapi Realme terus mendesak pasar dengan seri-seri baru dengan banderol murah. Tak heran harga HP Realme banyak dicari.',\n",
              " 'Klik link judul di atas untuk mendapatkan spek dan harga lengkap untuk smartphone Realme lainnya.',\n",
              " 'POCO tentu saja sudah bukan merek yang dianggap enteng lagi. Harga HP POCO yang murah meriah tapi punya spek mewah adalah ancaman buat para pesaingnya. ',\n",
              " 'Klik link judul di atas untuk mendapatkan spek dan harga lengkap untuk smartphone POCO lainnya.',\n",
              " 'Cek Harga di Shopee',\n",
              " 'Cek Harga di Shopee',\n",
              " 'Cek Harga di Shopee',\n",
              " 'Xiaomi  tentu saja sudah bukan merek yang dianggap enteng lagi. Harga HP Xiaomi yang murah meriah tapi punya spek mewah adalah ancaman buat para pesaingnya.',\n",
              " 'Klik link judul di atas untuk mendapatkan spek dan harga lengkap untuk smartphone Xiaomi lainnya.',\n",
              " 'HP ini adalah sub brand dari Xiaomi yang bertugas menjaga mereka dari pesaing di level bawah. Tapi dalam perjalanannya mulai punya tempat tersendiri di pasar. Tak heran banyak yang ingin tahu spesifikasi dan harga HP Redmi.',\n",
              " 'Klik link judul di atas untuk mendapatkan spek dan harga lengkap untuk smartphone Redmi lainnya.',\n",
              " 'Nah, itulah daftar harga HP paling baru 2022 per September. HP yang ada dalam artikel ini umumnya merupakan seri keluaran anyar yang dirilis dalam rentang setahun terakhir.  Kalian juga bisa mengecek rangkaian HP lain dalam daftar berikut ini:',\n",
              " 'Rangkaian di atas adalah daftar harga HP keluaran terbaru beserta spesifikasinya. Jika ingin lebih lengkap lagi bisa klik katalog khusus kami: Harga dan Spesifikasi HP.',\n",
              " 'Save my name, email, and website in this browser for the next time I comment.',\n",
              " ' \\n\\n',\n",
              " '',\n",
              " 'Δdocument.getElementById( \"ak_js_1\" ).setAttribute( \"value\", ( new Date() ).getTime() );']"
            ]
          },
          "metadata": {},
          "execution_count": 24
        }
      ]
    },
    {
      "cell_type": "code",
      "source": [
        "# Menghapus None dari list full_text sekaligus membersihkan elemen list dari whitespace menggunakan fungsi strip()\n",
        "# List Comprehension\n",
        "full_text = [paragraf.strip() for paragraf in full_text if paragraf != \"\"]\n",
        "full_text"
      ],
      "metadata": {
        "colab": {
          "base_uri": "https://localhost:8080/"
        },
        "id": "SZZ5jhG3Sshu",
        "outputId": "172c26c9-1a31-4759-ed63-93f1dc5f96aa"
      },
      "execution_count": null,
      "outputs": [
        {
          "output_type": "execute_result",
          "data": {
            "text/plain": [
              "['review1st.com – Pengguna smartphone di Indonesia terus membengkak. Kian hari kian banyak yang mencari daftar harga HP terbaru sebelum membeli. Pilihan yang melimpah mendorong orang melakukan survei terlebih dulu.',\n",
              " 'Terkait hal ini, kami berinisiatif menyuguhkan daftar HP keluaran baru dan harga untuk mempermudah pembaca dalam mencari produk yang sesuai kebutuhan. Setidaknya, kami lampirkan jajaran produk paling anyar dan masih segar di pasaran dalam berbagai merek.',\n",
              " 'Berikut adalah daftar HP baru 2022 dan harga yang dirilis hingga September 2022. Ada beberapa kategori merek yang kami suguhkan dalam list ini. Selamat mencari!',\n",
              " 'List harga HP keluaran baru Samsung cukup dicari, smartphone ini selalu banyak jadi buruan infonya meskipun belum tentu dibeli. Untuk itu kami persembahkan beberapa seri terbaru mereka untuk Anda.',\n",
              " 'Klik link judul di atas untuk mendapatkan spek dan harga lengkap untuk smartphone Samsung lainnya.',\n",
              " 'OPPO adalah merek yang terus naik daun tak heran jika spesifikasi dan harga HP OPPO ini mulai banyak dicari oleh banyak kalangan di Tanah Air.',\n",
              " 'Klik link judul di atas untuk mendapatkan spek dan harga lengkap untuk smartphone OPPO lainnya.',\n",
              " 'Meskipun sebagai vendor yang relatif paling baru tapi Realme terus mendesak pasar dengan seri-seri baru dengan banderol murah. Tak heran harga HP Realme banyak dicari.',\n",
              " 'Klik link judul di atas untuk mendapatkan spek dan harga lengkap untuk smartphone Realme lainnya.',\n",
              " 'POCO tentu saja sudah bukan merek yang dianggap enteng lagi. Harga HP POCO yang murah meriah tapi punya spek mewah adalah ancaman buat para pesaingnya.',\n",
              " 'Klik link judul di atas untuk mendapatkan spek dan harga lengkap untuk smartphone POCO lainnya.',\n",
              " 'Cek Harga di Shopee',\n",
              " 'Cek Harga di Shopee',\n",
              " 'Cek Harga di Shopee',\n",
              " 'Xiaomi  tentu saja sudah bukan merek yang dianggap enteng lagi. Harga HP Xiaomi yang murah meriah tapi punya spek mewah adalah ancaman buat para pesaingnya.',\n",
              " 'Klik link judul di atas untuk mendapatkan spek dan harga lengkap untuk smartphone Xiaomi lainnya.',\n",
              " 'HP ini adalah sub brand dari Xiaomi yang bertugas menjaga mereka dari pesaing di level bawah. Tapi dalam perjalanannya mulai punya tempat tersendiri di pasar. Tak heran banyak yang ingin tahu spesifikasi dan harga HP Redmi.',\n",
              " 'Klik link judul di atas untuk mendapatkan spek dan harga lengkap untuk smartphone Redmi lainnya.',\n",
              " 'Nah, itulah daftar harga HP paling baru 2022 per September. HP yang ada dalam artikel ini umumnya merupakan seri keluaran anyar yang dirilis dalam rentang setahun terakhir.  Kalian juga bisa mengecek rangkaian HP lain dalam daftar berikut ini:',\n",
              " 'Rangkaian di atas adalah daftar harga HP keluaran terbaru beserta spesifikasinya. Jika ingin lebih lengkap lagi bisa klik katalog khusus kami: Harga dan Spesifikasi HP.',\n",
              " 'Save my name, email, and website in this browser for the next time I comment.',\n",
              " '',\n",
              " 'Δdocument.getElementById( \"ak_js_1\" ).setAttribute( \"value\", ( new Date() ).getTime() );']"
            ]
          },
          "metadata": {},
          "execution_count": 25
        }
      ]
    },
    {
      "cell_type": "code",
      "source": [
        "full_text = ' '.join(full_text)\n",
        "full_text"
      ],
      "metadata": {
        "colab": {
          "base_uri": "https://localhost:8080/",
          "height": 139
        },
        "id": "6YYL4xTOS5bP",
        "outputId": "7872ea33-32e7-4c57-8cef-a3042d12492a"
      },
      "execution_count": null,
      "outputs": [
        {
          "output_type": "execute_result",
          "data": {
            "text/plain": [
              "'review1st.com – Pengguna smartphone di Indonesia terus membengkak. Kian hari kian banyak yang mencari daftar harga HP terbaru sebelum membeli. Pilihan yang melimpah mendorong orang melakukan survei terlebih dulu. Terkait hal ini, kami berinisiatif menyuguhkan daftar HP keluaran baru dan harga untuk mempermudah pembaca dalam mencari produk yang sesuai kebutuhan. Setidaknya, kami lampirkan jajaran produk paling anyar dan masih segar di pasaran dalam berbagai merek. Berikut adalah daftar HP baru 2022 dan harga yang dirilis hingga September 2022. Ada beberapa kategori merek yang kami suguhkan dalam list ini. Selamat mencari! List harga HP keluaran baru Samsung cukup dicari, smartphone ini selalu banyak jadi buruan infonya meskipun belum tentu dibeli. Untuk itu kami persembahkan beberapa seri terbaru mereka untuk Anda. Klik link judul di atas untuk mendapatkan spek dan harga lengkap untuk smartphone Samsung lainnya. OPPO adalah merek yang terus naik daun tak heran jika spesifikasi dan harga HP OPPO ini mulai banyak dicari oleh banyak kalangan di Tanah Air. Klik link judul di atas untuk mendapatkan spek dan harga lengkap untuk smartphone OPPO lainnya. Meskipun sebagai vendor yang relatif paling baru tapi Realme terus mendesak pasar dengan seri-seri baru dengan banderol murah. Tak heran harga HP Realme banyak dicari. Klik link judul di atas untuk mendapatkan spek dan harga lengkap untuk smartphone Realme lainnya. POCO tentu saja sudah bukan merek yang dianggap enteng lagi. Harga HP POCO yang murah meriah tapi punya spek mewah adalah ancaman buat para pesaingnya. Klik link judul di atas untuk mendapatkan spek dan harga lengkap untuk smartphone POCO lainnya. Cek Harga di Shopee Cek Harga di Shopee Cek Harga di Shopee Xiaomi  tentu saja sudah bukan merek yang dianggap enteng lagi. Harga HP Xiaomi yang murah meriah tapi punya spek mewah adalah ancaman buat para pesaingnya. Klik link judul di atas untuk mendapatkan spek dan harga lengkap untuk smartphone Xiaomi lainnya. HP ini adalah sub brand dari Xiaomi yang bertugas menjaga mereka dari pesaing di level bawah. Tapi dalam perjalanannya mulai punya tempat tersendiri di pasar. Tak heran banyak yang ingin tahu spesifikasi dan harga HP Redmi. Klik link judul di atas untuk mendapatkan spek dan harga lengkap untuk smartphone Redmi lainnya. Nah, itulah daftar harga HP paling baru 2022 per September. HP yang ada dalam artikel ini umumnya merupakan seri keluaran anyar yang dirilis dalam rentang setahun terakhir.  Kalian juga bisa mengecek rangkaian HP lain dalam daftar berikut ini: Rangkaian di atas adalah daftar harga HP keluaran terbaru beserta spesifikasinya. Jika ingin lebih lengkap lagi bisa klik katalog khusus kami: Harga dan Spesifikasi HP. Save my name, email, and website in this browser for the next time I comment.  Δdocument.getElementById( \"ak_js_1\" ).setAttribute( \"value\", ( new Date() ).getTime() );'"
            ],
            "application/vnd.google.colaboratory.intrinsic+json": {
              "type": "string"
            }
          },
          "metadata": {},
          "execution_count": 26
        }
      ]
    },
    {
      "cell_type": "markdown",
      "source": [
        "**CRAWLING DATA FROM TWITTER**"
      ],
      "metadata": {
        "id": "zkabHmieTB1z"
      }
    },
    {
      "cell_type": "code",
      "source": [
        "#import Library\n",
        "import os #import path directory\n",
        "import csv #import file csv\n",
        "import tweepy as tw #package untuk crawling data pada tweeter\n",
        "import pandas as pd #untuk visualisasi"
      ],
      "metadata": {
        "id": "OHGkW7maS-uy"
      },
      "execution_count": null,
      "outputs": []
    },
    {
      "cell_type": "code",
      "source": [
        "#memanggil data dari tweeter menggunakan API \n",
        "access_token = \"3760416139-MLn5ifjLKCSXh4dWrgmOsSpQ6lYvefNkbQNuM35\"\n",
        "access_token_secret =\"KsKpKqYwCli8YDNJg15y8ZW0quVlfGwrUCrOX4xLZHMaE\"\n",
        "consumer_key =\"gchYjFhHc48sIveGC8fMVa2Sw\"\n",
        "consumer_secret=\"F4wR4cp8CIcAhkUgVFtrOZDg9CDKaroN9O0dkh2vSxgubnoKCb\""
      ],
      "metadata": {
        "id": "sRDw14C0TJjT"
      },
      "execution_count": null,
      "outputs": []
    },
    {
      "cell_type": "code",
      "source": [
        "auth = tw.OAuthHandler(consumer_key, consumer_secret) #memanggil data concumer_key, consumer_secret\n",
        "auth.set_access_token(access_token, access_token_secret) #memanggil access_token, access_token_secret\n",
        "api = tw.API(auth, wait_on_rate_limit=True) #autentifikasi ke twitter"
      ],
      "metadata": {
        "id": "jlacI3T1TMu_"
      },
      "execution_count": null,
      "outputs": []
    },
    {
      "cell_type": "code",
      "source": [
        "search_words = \"hp2022\""
      ],
      "metadata": {
        "id": "CbUmf8dhTiiP"
      },
      "execution_count": null,
      "outputs": []
    },
    {
      "cell_type": "code",
      "source": [
        "csvFile = open('hp2022.csv', 'a')\n",
        "#Use csv Writer\n",
        "csvWriter = csv.writer(csvFile)\n",
        "\n",
        "ids = set()\n",
        "csvWriter.writerow(['timetweet','isitweet','favcount', 'retwcount','id','name'])\n",
        "\n",
        "csvFile.close()"
      ],
      "metadata": {
        "id": "fZ0QK3gfTQyS"
      },
      "execution_count": null,
      "outputs": []
    },
    {
      "cell_type": "code",
      "source": [
        "csvFile = open('hp2022.csv', 'a')\n",
        "#Use csv Writer\n",
        "csvWriter = csv.writer(csvFile)\n",
        "\n",
        "ids = set()\n",
        "\n",
        "for tweet in  tw.Cursor(api.search,\n",
        "                   q=search_words,\n",
        "                   date ='2020-12-12', \n",
        "                   lang='id', \n",
        "                   tweet_mode = 'extended').items(90000):\n",
        "  #if (not tweet.retweeted) and ('RT @' not in tweet.full_text):\n",
        "    #Write a row to the csv file/ I use encode utf-8\n",
        "    csvWriter.writerow([tweet.created_at, tweet.full_text.encode('utf_8'), tweet.favorite_count, tweet.retweet_count, tweet.id, tweet.user.screen_name])\n",
        "    #print \"...%s tweets downloaded so far\" % (len(tweet.id))\n",
        "    ids.add(tweet.id) # add new id\n",
        "    #print (\"number of unique ids seen so far: {}\",format(len(ids)))\n",
        "csvFile.close()"
      ],
      "metadata": {
        "id": "Bnd1-9JvTZHN"
      },
      "execution_count": null,
      "outputs": []
    },
    {
      "cell_type": "code",
      "source": [
        "#with open(path, 'rb') as f: contens = f.read()\n",
        "df = pd.read_csv('hp2022.csv')\n",
        "df.head()"
      ],
      "metadata": {
        "colab": {
          "base_uri": "https://localhost:8080/",
          "height": 81
        },
        "id": "UgFnPa-WWZDx",
        "outputId": "bb5189db-cf66-4212-a705-b96de7568b59"
      },
      "execution_count": null,
      "outputs": [
        {
          "output_type": "execute_result",
          "data": {
            "text/plain": [
              "             timetweet                                           isitweet  \\\n",
              "0  2022-09-25 06:00:12  b'Akhirnya Samsung keluarin juga penerus A03S ...   \n",
              "\n",
              "   favcount  retwcount                   id             name  \n",
              "0         0          0  1573915253150285824  ReviewGadgetIDN  "
            ],
            "text/html": [
              "\n",
              "  <div id=\"df-456ad70a-fd26-40af-8b56-38cc57fc279a\">\n",
              "    <div class=\"colab-df-container\">\n",
              "      <div>\n",
              "<style scoped>\n",
              "    .dataframe tbody tr th:only-of-type {\n",
              "        vertical-align: middle;\n",
              "    }\n",
              "\n",
              "    .dataframe tbody tr th {\n",
              "        vertical-align: top;\n",
              "    }\n",
              "\n",
              "    .dataframe thead th {\n",
              "        text-align: right;\n",
              "    }\n",
              "</style>\n",
              "<table border=\"1\" class=\"dataframe\">\n",
              "  <thead>\n",
              "    <tr style=\"text-align: right;\">\n",
              "      <th></th>\n",
              "      <th>timetweet</th>\n",
              "      <th>isitweet</th>\n",
              "      <th>favcount</th>\n",
              "      <th>retwcount</th>\n",
              "      <th>id</th>\n",
              "      <th>name</th>\n",
              "    </tr>\n",
              "  </thead>\n",
              "  <tbody>\n",
              "    <tr>\n",
              "      <th>0</th>\n",
              "      <td>2022-09-25 06:00:12</td>\n",
              "      <td>b'Akhirnya Samsung keluarin juga penerus A03S ...</td>\n",
              "      <td>0</td>\n",
              "      <td>0</td>\n",
              "      <td>1573915253150285824</td>\n",
              "      <td>ReviewGadgetIDN</td>\n",
              "    </tr>\n",
              "  </tbody>\n",
              "</table>\n",
              "</div>\n",
              "      <button class=\"colab-df-convert\" onclick=\"convertToInteractive('df-456ad70a-fd26-40af-8b56-38cc57fc279a')\"\n",
              "              title=\"Convert this dataframe to an interactive table.\"\n",
              "              style=\"display:none;\">\n",
              "        \n",
              "  <svg xmlns=\"http://www.w3.org/2000/svg\" height=\"24px\"viewBox=\"0 0 24 24\"\n",
              "       width=\"24px\">\n",
              "    <path d=\"M0 0h24v24H0V0z\" fill=\"none\"/>\n",
              "    <path d=\"M18.56 5.44l.94 2.06.94-2.06 2.06-.94-2.06-.94-.94-2.06-.94 2.06-2.06.94zm-11 1L8.5 8.5l.94-2.06 2.06-.94-2.06-.94L8.5 2.5l-.94 2.06-2.06.94zm10 10l.94 2.06.94-2.06 2.06-.94-2.06-.94-.94-2.06-.94 2.06-2.06.94z\"/><path d=\"M17.41 7.96l-1.37-1.37c-.4-.4-.92-.59-1.43-.59-.52 0-1.04.2-1.43.59L10.3 9.45l-7.72 7.72c-.78.78-.78 2.05 0 2.83L4 21.41c.39.39.9.59 1.41.59.51 0 1.02-.2 1.41-.59l7.78-7.78 2.81-2.81c.8-.78.8-2.07 0-2.86zM5.41 20L4 18.59l7.72-7.72 1.47 1.35L5.41 20z\"/>\n",
              "  </svg>\n",
              "      </button>\n",
              "      \n",
              "  <style>\n",
              "    .colab-df-container {\n",
              "      display:flex;\n",
              "      flex-wrap:wrap;\n",
              "      gap: 12px;\n",
              "    }\n",
              "\n",
              "    .colab-df-convert {\n",
              "      background-color: #E8F0FE;\n",
              "      border: none;\n",
              "      border-radius: 50%;\n",
              "      cursor: pointer;\n",
              "      display: none;\n",
              "      fill: #1967D2;\n",
              "      height: 32px;\n",
              "      padding: 0 0 0 0;\n",
              "      width: 32px;\n",
              "    }\n",
              "\n",
              "    .colab-df-convert:hover {\n",
              "      background-color: #E2EBFA;\n",
              "      box-shadow: 0px 1px 2px rgba(60, 64, 67, 0.3), 0px 1px 3px 1px rgba(60, 64, 67, 0.15);\n",
              "      fill: #174EA6;\n",
              "    }\n",
              "\n",
              "    [theme=dark] .colab-df-convert {\n",
              "      background-color: #3B4455;\n",
              "      fill: #D2E3FC;\n",
              "    }\n",
              "\n",
              "    [theme=dark] .colab-df-convert:hover {\n",
              "      background-color: #434B5C;\n",
              "      box-shadow: 0px 1px 3px 1px rgba(0, 0, 0, 0.15);\n",
              "      filter: drop-shadow(0px 1px 2px rgba(0, 0, 0, 0.3));\n",
              "      fill: #FFFFFF;\n",
              "    }\n",
              "  </style>\n",
              "\n",
              "      <script>\n",
              "        const buttonEl =\n",
              "          document.querySelector('#df-456ad70a-fd26-40af-8b56-38cc57fc279a button.colab-df-convert');\n",
              "        buttonEl.style.display =\n",
              "          google.colab.kernel.accessAllowed ? 'block' : 'none';\n",
              "\n",
              "        async function convertToInteractive(key) {\n",
              "          const element = document.querySelector('#df-456ad70a-fd26-40af-8b56-38cc57fc279a');\n",
              "          const dataTable =\n",
              "            await google.colab.kernel.invokeFunction('convertToInteractive',\n",
              "                                                     [key], {});\n",
              "          if (!dataTable) return;\n",
              "\n",
              "          const docLinkHtml = 'Like what you see? Visit the ' +\n",
              "            '<a target=\"_blank\" href=https://colab.research.google.com/notebooks/data_table.ipynb>data table notebook</a>'\n",
              "            + ' to learn more about interactive tables.';\n",
              "          element.innerHTML = '';\n",
              "          dataTable['output_type'] = 'display_data';\n",
              "          await google.colab.output.renderOutput(dataTable, element);\n",
              "          const docLink = document.createElement('div');\n",
              "          docLink.innerHTML = docLinkHtml;\n",
              "          element.appendChild(docLink);\n",
              "        }\n",
              "      </script>\n",
              "    </div>\n",
              "  </div>\n",
              "  "
            ]
          },
          "metadata": {},
          "execution_count": 40
        }
      ]
    },
    {
      "cell_type": "code",
      "source": [
        "len(df.index)"
      ],
      "metadata": {
        "colab": {
          "base_uri": "https://localhost:8080/"
        },
        "id": "hCgUW71kZ79h",
        "outputId": "75c07982-1ad9-48f2-a872-6d72080a6a7c"
      },
      "execution_count": null,
      "outputs": [
        {
          "output_type": "execute_result",
          "data": {
            "text/plain": [
              "1"
            ]
          },
          "metadata": {},
          "execution_count": 41
        }
      ]
    }
  ]
}